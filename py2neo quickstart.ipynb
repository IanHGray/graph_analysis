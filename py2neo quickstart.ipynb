{
 "cells": [
  {
   "cell_type": "markdown",
   "metadata": {},
   "source": [
    "# Py2Neo Quickstart\n",
    "\n",
    "Neo4j is, without question, one of the most flexible and powerful database engines available, allowing its users to query information, model complex relationships, and detect trends in ways that are simply unachievable with standard relational databases. That said, its documentation is often disjointed and opaque, rendering it a sometimes frustrating experience-- particularly if you are looking to connect to a graph via Python or R. Major changes are often implemented without updates to the official guides, and most of the answers on StackOverflow are out-of-date after recent changes. I love this platform, but using it isn't exactly straightforward.\n",
    "\n",
    "The below notebook is a simple guide to connecting to the Graph via the latest version of py2neo, loading data into the graph, and reading out queries via Cypher.\n",
    "\n",
    "If you have any questions (or if you find better documentation) hit me up at gray.ian.hunter@gmail or on Twitter @IanHGray."
   ]
  },
  {
   "cell_type": "code",
   "execution_count": 3,
   "metadata": {},
   "outputs": [],
   "source": [
    "#Import dependencies\n",
    "from py2neo import Graph, Node, Relationship\n",
    "import pandas as pd"
   ]
  },
  {
   "cell_type": "code",
   "execution_count": 4,
   "metadata": {},
   "outputs": [],
   "source": [
    "#Open connection to the Neo4j graph via bolt. In this case, we're using Neo4j desktop.\n",
    "graph = Graph(\"bolt://localhost:7687\", auth=('neo4j', 'PASSWORD_HERE'))\n",
    "graph.delete_all()"
   ]
  },
  {
   "cell_type": "markdown",
   "metadata": {},
   "source": [
    "Create some dummy data. In this case, we're looking at classic rock bands that have considerable overlap\n",
    "in their membership. Fun fact, did you know that Eric Clapton is the only triple inductee to the Rock & Roll hall of fame?\n",
    "He was awarded for his work in the Yardbirds (often-overlooked precursor to Led Zeppelin), Cream, and as a solo artist."
   ]
  },
  {
   "cell_type": "code",
   "execution_count": 5,
   "metadata": {},
   "outputs": [
    {
     "name": "stdout",
     "output_type": "stream",
     "text": [
      "           Musician             Band Instrument\n",
      "0      Eric Clapton        Yardbirds     Guitar\n",
      "1         Jeff Beck        Yardbirds     Guitar\n",
      "2        Jimmy Page        Yardbirds     Guitar\n",
      "3      Eric Clapton            Cream     Guitar\n",
      "4      Ginger Baker            Cream       Bass\n",
      "5        Jack Bruce            Cream      Drums\n",
      "6         Jeff Beck  Jeff Beck Group     Guitar\n",
      "7        Tim Bogert  Jeff Beck Group       Bass\n",
      "8    Carmine Appice  Jeff Beck Group      Drums\n",
      "9        Jimmy Page     Led Zeppelin     Guitar\n",
      "10     Robert Plant     Led Zeppelin      Vocal\n",
      "11  John Paul Jones     Led Zeppelin   Keyboard\n",
      "12      John Bonham     Led Zeppelin      Drums\n"
     ]
    }
   ],
   "source": [
    "dataframe = pd.DataFrame({'Musician':['Eric Clapton','Jeff Beck','Jimmy Page',\\\n",
    " 'Eric Clapton','Ginger Baker','Jack Bruce','Jeff Beck','Tim Bogert','Carmine Appice',\\\n",
    " 'Jimmy Page','Robert Plant','John Paul Jones','John Bonham'],\n",
    "\n",
    "'Band':['Yardbirds','Yardbirds','Yardbirds','Cream','Cream','Cream',\\\n",
    "'Jeff Beck Group','Jeff Beck Group','Jeff Beck Group','Led Zeppelin','Led Zeppelin',\\\n",
    "'Led Zeppelin','Led Zeppelin'],\n",
    "                             \n",
    "'Instrument':['Guitar','Guitar','Guitar','Guitar','Bass','Drums',\\\n",
    "'Guitar','Bass','Drums','Guitar','Vocal','Keyboard','Drums']})\n",
    "\n",
    "#Lets print the dataframe to see how it looks in tabular form.\n",
    "print (dataframe)"
   ]
  },
  {
   "cell_type": "markdown",
   "metadata": {},
   "source": [
    "A powerful feature of graph databases is their ability to assign uniqueness to properties.\n",
    "We call that explicitly here, as there is only one instance of a musician and a band, although they can\n",
    "have different arrangements."
   ]
  },
  {
   "cell_type": "code",
   "execution_count": 6,
   "metadata": {},
   "outputs": [],
   "source": [
    "graph.schema.create_uniqueness_constraint('musician', 'musician_name')\n",
    "graph.schema.create_uniqueness_constraint('band', 'band_name')"
   ]
  },
  {
   "cell_type": "markdown",
   "metadata": {},
   "source": [
    "Because this is a relatively small dataset, we can iterate over its elements to insert into the graph.\n",
    "For larger datasets, it may be necessary to use Neo4j's native data loading procedures."
   ]
  },
  {
   "cell_type": "code",
   "execution_count": 7,
   "metadata": {},
   "outputs": [],
   "source": [
    "for index, rows in dataframe.iterrows():\n",
    "    musician_name = rows['Musician']\n",
    "    band_name = rows['Band']\n",
    "    instrument = rows['Instrument']\n",
    "    \n",
    "    #Create a Node object with information about the musician. Note that in this newer version of\n",
    "    #py2neo, we have to explicitly declare primarylabel and primarykey.\n",
    "    musician = Node('musician', musician_name = musician_name, instrument = instrument)\n",
    "    musician.__primarylabel__='musician'\n",
    "    musician.__primarykey__='musician_name'\n",
    "    \n",
    "    #Create a Node object for the band\n",
    "    band = Node('band', band_name = band_name)\n",
    "    band.__primarylabel__='band'\n",
    "    band.__primarykey='band_name'\n",
    "    \n",
    "    #Create a Relationship object, describing the connection\n",
    "    PLAYED_IN = Relationship.type(\"PLAYED_IN\")\n",
    "    \n",
    "    #Now insert nodes and relationship to the graph\n",
    "    graph.merge(PLAYED_IN(musician, band), 'musician_name', 'band_name')"
   ]
  },
  {
   "cell_type": "markdown",
   "metadata": {},
   "source": [
    "Now that the data is stored in Neo4j, we can run cypher queries against it, returning the results as\n",
    "pandas dataframe. In this case, we'll look for musicians who played in both the Yardbirds and Cream."
   ]
  },
  {
   "cell_type": "code",
   "execution_count": 8,
   "metadata": {},
   "outputs": [
    {
     "name": "stdout",
     "output_type": "stream",
     "text": [
      "  m.instrument m.musician_name\n",
      "0       Guitar    Eric Clapton\n"
     ]
    }
   ],
   "source": [
    "neo_df = pd.DataFrame(graph.run(\n",
    "\"MATCH (m:musician)-[:PLAYED_IN]->(y:band {band_name:'Yardbirds'})\\\n",
    "MATCH (m)-[:PLAYED_IN]->(c:band {band_name:'Cream'})\\\n",
    "RETURN m.musician_name, m.instrument\").data())\n",
    "print (neo_df)"
   ]
  },
  {
   "cell_type": "markdown",
   "metadata": {},
   "source": [
    "The result is Eric Clapton, because he's the best. But what if we want to add data from another source, which\n",
    "pairs the bands with the albums they released? "
   ]
  },
  {
   "cell_type": "code",
   "execution_count": 10,
   "metadata": {},
   "outputs": [
    {
     "name": "stdout",
     "output_type": "stream",
     "text": [
      "                                  album  year             band\n",
      "0                         For Your Love  1965        Yardbirds\n",
      "1   Having a Rave Up with The Yardbirds  1965        Yardbirds\n",
      "2                             Yardbirds  1966        Yardbirds\n",
      "3              Over Under Sideways Down  1966        Yardbirds\n",
      "4                          Little Games  1967        Yardbirds\n",
      "5                           Fresh Cream  1966            Cream\n",
      "6                        Disraeli Gears  1967            Cream\n",
      "7                        Wheels of Fire  1968            Cream\n",
      "8                               Goodbye  1969            Cream\n",
      "9                          Led Zeppelin  1969     Led Zeppelin\n",
      "10                      Led Leppelin II  1969     Led Zeppelin\n",
      "11                     Led Zeppelin III  1970     Led Zeppelin\n",
      "12                      Led Zeppelin IV  1971     Led Zeppelin\n",
      "13                   Houses of the Holy  1973     Led Zeppelin\n",
      "14                    Physical Graffiti  1975     Led Zeppelin\n",
      "15                             Presence  1976     Led Zeppelin\n",
      "16              In Through the Out Door  1979     Led Zeppelin\n",
      "17                                Truth  1968  Jeff Beck Group\n",
      "18                             Beck-Ola  1969  Jeff Beck Group\n",
      "19                      Rough and Ready  1971  Jeff Beck Group\n",
      "20                      Jeff Beck Group  1972  Jeff Beck Group\n"
     ]
    }
   ],
   "source": [
    "albums_df = pd.DataFrame({'album':['For Your Love', 'Having a Rave Up with The Yardbirds',\\\n",
    "                                   'Yardbirds', 'Over Under Sideways Down', 'Little Games',\\\n",
    "                                 'Fresh Cream', 'Disraeli Gears', 'Wheels of Fire', 'Goodbye',\\\n",
    "                                 'Led Zeppelin', 'Led Leppelin II', 'Led Zeppelin III',\\\n",
    "                                   'Led Zeppelin IV', 'Houses of the Holy', 'Physical Graffiti',\\\n",
    "                                 'Presence', 'In Through the Out Door', 'Truth', 'Beck-Ola', 'Rough and Ready',\\\n",
    "                                  'Jeff Beck Group'],\n",
    "                        'year':[1965, 1965, 1966, 1966, 1967, 1966, 1967, 1968, 1969,\\\n",
    "                               1969, 1969, 1970, 1971, 1973, 1975, 1976, 1979, 1968, 1969, 1971, 1972],\n",
    "                          \n",
    "                        'band':['Yardbirds', 'Yardbirds', 'Yardbirds', 'Yardbirds', 'Yardbirds',\\\n",
    "                               'Cream', 'Cream', 'Cream', 'Cream', 'Led Zeppelin', 'Led Zeppelin',\\\n",
    "                                'Led Zeppelin', 'Led Zeppelin', 'Led Zeppelin', 'Led Zeppelin',\\\n",
    "                               'Led Zeppelin', 'Led Zeppelin', 'Jeff Beck Group', 'Jeff Beck Group',\\\n",
    "                               'Jeff Beck Group', 'Jeff Beck Group']})\n",
    "print(albums_df)"
   ]
  },
  {
   "cell_type": "markdown",
   "metadata": {},
   "source": [
    "We can merge the above dataset into the graph using the same technique as before.\n",
    "The MERGE operation will check to see if a node already exists, and then connect new data to it, or it will\n",
    "create a new node."
   ]
  },
  {
   "cell_type": "code",
   "execution_count": 11,
   "metadata": {},
   "outputs": [],
   "source": [
    "graph.schema.create_uniqueness_constraint('album', 'album_name')\n",
    "\n",
    "for index, rows in albums_df.iterrows():\n",
    "    album_name = rows['album']\n",
    "    band_name = rows['band']\n",
    "    year = rows['year']\n",
    "    \n",
    "    band = Node('band', band_name = band_name)\n",
    "    band.__primarylabel__='band'\n",
    "    band.__primarykey__='band_name'\n",
    "    \n",
    "    album = Node('album', album_name = album_name, year = year)\n",
    "    album.__primarylabel__='album'\n",
    "    album.__primarykey__='album_name'\n",
    "    \n",
    "    RELEASED = Relationship.type(\"RELEASED\")\n",
    "    \n",
    "    graph.merge(RELEASED(band, album), 'band_name', 'album')"
   ]
  },
  {
   "cell_type": "markdown",
   "metadata": {},
   "source": [
    "The final product should look like this:"
   ]
  },
  {
   "cell_type": "code",
   "execution_count": 16,
   "metadata": {},
   "outputs": [
    {
     "data": {
      "text/html": [
       "<img src=\"yardbirds_network.png\", width = 1000, height=800>\n"
      ],
      "text/plain": [
       "<IPython.core.display.HTML object>"
      ]
     },
     "metadata": {},
     "output_type": "display_data"
    }
   ],
   "source": [
    "%%html\n",
    "<img src=\"yardbirds_network.png\", width = 1000, height=800>"
   ]
  },
  {
   "cell_type": "markdown",
   "metadata": {},
   "source": [
    "Using Cypher, we can calculate basic statistics about the network, for instance, the musicians who have the greatest number\n",
    "of connections within the dataset:"
   ]
  },
  {
   "cell_type": "code",
   "execution_count": 13,
   "metadata": {},
   "outputs": [
    {
     "name": "stdout",
     "output_type": "stream",
     "text": [
      "   degree  m.musician_name\n",
      "0       2     Eric Clapton\n",
      "1       2        Jeff Beck\n",
      "2       2       Jimmy Page\n",
      "3       1     Ginger Baker\n",
      "4       1       Jack Bruce\n",
      "5       1       Tim Bogert\n",
      "6       1   Carmine Appice\n",
      "7       1     Robert Plant\n",
      "8       1  John Paul Jones\n",
      "9       1      John Bonham\n"
     ]
    }
   ],
   "source": [
    "degree_df = pd.DataFrame(graph.run(\"MATCH (m:musician)\\\n",
    "                            RETURN m.musician_name, size((m)-[]-()) AS degree\\\n",
    "                            ORDER BY degree DESC\").data())\n",
    "print(degree_df)"
   ]
  },
  {
   "cell_type": "markdown",
   "metadata": {},
   "source": [
    "As this dataset is focused on the Yardbirds and its subsequent acts, the above results make sense. Each *original* member of the Yardbirds (so not New Yardbirds/proto-Led Zeppelin era) has a degree of 2 as they appear in multiple bands, while every other musician has a degree of 1.\n",
    "\n",
    "This is a highly simplistic example, but should demonstrate how Python interracts with the most recent version of Neo4j and Py2Neo.\n",
    "\n",
    "Also, go check out the Yardbirds."
   ]
  }
 ],
 "metadata": {
  "kernelspec": {
   "display_name": "Python 3",
   "language": "python",
   "name": "python3"
  },
  "language_info": {
   "codemirror_mode": {
    "name": "ipython",
    "version": 3
   },
   "file_extension": ".py",
   "mimetype": "text/x-python",
   "name": "python",
   "nbconvert_exporter": "python",
   "pygments_lexer": "ipython3",
   "version": "3.7.3"
  }
 },
 "nbformat": 4,
 "nbformat_minor": 2
}
