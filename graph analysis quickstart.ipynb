{
 "cells": [
  {
   "cell_type": "markdown",
   "metadata": {},
   "source": [
    "# Quickstart: Graph Databases in Python\n",
    "### Working with Neo4j and NetworkX\n",
    "\n",
    "Graph databases are a powerful tool for modeling complex relationships, detecting trends across networks, and querying information in ways simply unachievable with traditional relational databases.\n",
    "\n",
    "At present, Neo4j is the industry leading graph database engine, utilizing the flexible and intuitive <em>Cypher</em> language to run sophisticated queries. Neo4j excels at storing and interacting with large scale graph databases.\n",
    "\n",
    "That said, Neo4j is an imperfect product. Its documentation is often disjointed and opaque--particularly if you are looking to connect to a graph via Python or R. Major changes are frequently implemented without updates to the official guides, and most of the information available on StackOverflow or similar sites is out-of-date after recent changes. I love this platform--and am excited about its future--but its current form isn't exactly straightforward.\n",
    "\n",
    "Neo4j also disappoints as an analysis platform, requiring clunky (and often buggy) commands to run basic algorithms. The recently released Graph Algorithms plugin shows promise, but is currently an inconsistent experience.\n",
    "\n",
    "To fill in the gaps, I prefer Python's NetworkX module for analysis and the Gephi visualization tool to present results. This is hardly a perfect workflow, but at least its a reliable one.\n",
    "\n",
    "If you have any questions (or if you find better way of doing this) hit me up at gray.ian.hunter@gmail or on Twitter @IanHGray. I by no means consider myself an expert in graph analysis, but I *do* have a high threshold for pain when it comes to reading documentation."
   ]
  },
  {
   "cell_type": "code",
   "execution_count": 19,
   "metadata": {},
   "outputs": [],
   "source": [
    "#Import dependencies\n",
    "from py2neo import Graph, Node, Relationship\n",
    "import pandas as pd"
   ]
  },
  {
   "cell_type": "code",
   "execution_count": 42,
   "metadata": {},
   "outputs": [],
   "source": [
    "#Open connection to the Neo4j graph via bolt. In this case, we're using Neo4j desktop.\n",
    "graph = Graph(\"bolt://localhost:7687\", auth=('neo4j', 'PASSWORD HERE'))"
   ]
  },
  {
   "cell_type": "markdown",
   "metadata": {},
   "source": [
    "## Loading Data into Neo4j"
   ]
  },
  {
   "cell_type": "markdown",
   "metadata": {},
   "source": [
    "First, we'll create some dummy data. In this case, we're looking at bands that spun off from the Yardbirds, one of rock & roll's first power groups and the precursor to Led Zeppelin. (Fun fact, did you know that Eric Clapton is the only triple inductee to the Rock & Roll hall of fame? He was awarded for his work in the Yardbirds, Cream, and as a solo artist.)"
   ]
  },
  {
   "cell_type": "code",
   "execution_count": 21,
   "metadata": {},
   "outputs": [
    {
     "name": "stdout",
     "output_type": "stream",
     "text": [
      "           Musician             Band Instrument\n",
      "0      Eric Clapton        Yardbirds     Guitar\n",
      "1         Jeff Beck        Yardbirds     Guitar\n",
      "2        Jimmy Page        Yardbirds     Guitar\n",
      "3      Eric Clapton            Cream     Guitar\n",
      "4      Ginger Baker            Cream       Bass\n",
      "5        Jack Bruce            Cream      Drums\n",
      "6         Jeff Beck  Jeff Beck Group     Guitar\n",
      "7        Tim Bogert  Jeff Beck Group       Bass\n",
      "8    Carmine Appice  Jeff Beck Group      Drums\n",
      "9        Jimmy Page     Led Zeppelin     Guitar\n",
      "10     Robert Plant     Led Zeppelin      Vocal\n",
      "11  John Paul Jones     Led Zeppelin   Keyboard\n",
      "12      John Bonham     Led Zeppelin      Drums\n"
     ]
    }
   ],
   "source": [
    "dataframe = pd.DataFrame({'Musician':['Eric Clapton','Jeff Beck','Jimmy Page',\\\n",
    " 'Eric Clapton','Ginger Baker','Jack Bruce','Jeff Beck','Tim Bogert','Carmine Appice',\\\n",
    " 'Jimmy Page','Robert Plant','John Paul Jones','John Bonham'],\n",
    "\n",
    "'Band':['Yardbirds','Yardbirds','Yardbirds','Cream','Cream','Cream',\\\n",
    "'Jeff Beck Group','Jeff Beck Group','Jeff Beck Group','Led Zeppelin','Led Zeppelin',\\\n",
    "'Led Zeppelin','Led Zeppelin'],\n",
    "                             \n",
    "'Instrument':['Guitar','Guitar','Guitar','Guitar','Bass','Drums',\\\n",
    "'Guitar','Bass','Drums','Guitar','Vocal','Keyboard','Drums']})\n",
    "\n",
    "#Lets print the dataframe to see how it looks in tabular form.\n",
    "print (dataframe)"
   ]
  },
  {
   "cell_type": "markdown",
   "metadata": {},
   "source": [
    "A powerful feature of graph databases is their ability to assign uniqueness to properties.\n",
    "We call that explicitly here, as there is only one instance of a musician and a band, although they can\n",
    "have different arrangements."
   ]
  },
  {
   "cell_type": "code",
   "execution_count": 22,
   "metadata": {},
   "outputs": [],
   "source": [
    "graph.schema.create_uniqueness_constraint('musician', 'musician_name')\n",
    "graph.schema.create_uniqueness_constraint('band', 'band_name')"
   ]
  },
  {
   "cell_type": "markdown",
   "metadata": {},
   "source": [
    "Because this is a relatively small dataset, we can iterate over its elements to insert into the graph.\n",
    "For larger datasets, it may be necessary to use Neo4j's native data loading procedures."
   ]
  },
  {
   "cell_type": "code",
   "execution_count": 23,
   "metadata": {},
   "outputs": [],
   "source": [
    "for index, rows in dataframe.iterrows():\n",
    "    musician_name = rows['Musician']\n",
    "    band_name = rows['Band']\n",
    "    instrument = rows['Instrument']\n",
    "    \n",
    "    #Create a Node object with information about the musician. Note that in this newer version of\n",
    "    #py2neo, we have to explicitly declare primarylabel and primarykey.\n",
    "    musician = Node('musician', musician_name = musician_name, instrument = instrument)\n",
    "    musician.__primarylabel__='musician'\n",
    "    musician.__primarykey__='musician_name'\n",
    "    \n",
    "    #Create a Node object for the band\n",
    "    band = Node('band', band_name = band_name)\n",
    "    band.__primarylabel__='band'\n",
    "    band.__primarykey='band_name'\n",
    "    \n",
    "    #Create a Relationship object, describing the connection\n",
    "    PLAYED_IN = Relationship.type(\"PLAYED_IN\")\n",
    "    \n",
    "    #Now insert nodes and relationship to the graph\n",
    "    graph.merge(PLAYED_IN(musician, band), 'musician_name', 'band_name')"
   ]
  },
  {
   "cell_type": "markdown",
   "metadata": {},
   "source": [
    "Now that the data is stored in Neo4j, we can run cypher queries against it, returning the results as\n",
    "pandas dataframe. In this case, we'll look for musicians who played in both the Yardbirds and Cream."
   ]
  },
  {
   "cell_type": "code",
   "execution_count": 24,
   "metadata": {},
   "outputs": [
    {
     "name": "stdout",
     "output_type": "stream",
     "text": [
      "  m.instrument m.musician_name\n",
      "0       Guitar    Eric Clapton\n"
     ]
    }
   ],
   "source": [
    "neo_df = pd.DataFrame(graph.run(\n",
    "\"MATCH (m:musician)-[:PLAYED_IN]->(y:band {band_name:'Yardbirds'})\\\n",
    "MATCH (m)-[:PLAYED_IN]->(c:band {band_name:'Cream'})\\\n",
    "RETURN m.musician_name, m.instrument\").data())\n",
    "print (neo_df)"
   ]
  },
  {
   "cell_type": "markdown",
   "metadata": {},
   "source": [
    "The result is Eric Clapton, because he's the best. But what if we want to add data from another source, which\n",
    "pairs the bands with the albums they released? "
   ]
  },
  {
   "cell_type": "code",
   "execution_count": 25,
   "metadata": {},
   "outputs": [
    {
     "name": "stdout",
     "output_type": "stream",
     "text": [
      "                                  album  year             band\n",
      "0                         For Your Love  1965        Yardbirds\n",
      "1   Having a Rave Up with The Yardbirds  1965        Yardbirds\n",
      "2                             Yardbirds  1966        Yardbirds\n",
      "3              Over Under Sideways Down  1966        Yardbirds\n",
      "4                          Little Games  1967        Yardbirds\n",
      "5                           Fresh Cream  1966            Cream\n",
      "6                        Disraeli Gears  1967            Cream\n",
      "7                        Wheels of Fire  1968            Cream\n",
      "8                               Goodbye  1969            Cream\n",
      "9                          Led Zeppelin  1969     Led Zeppelin\n",
      "10                      Led Leppelin II  1969     Led Zeppelin\n",
      "11                     Led Zeppelin III  1970     Led Zeppelin\n",
      "12                      Led Zeppelin IV  1971     Led Zeppelin\n",
      "13                   Houses of the Holy  1973     Led Zeppelin\n",
      "14                    Physical Graffiti  1975     Led Zeppelin\n",
      "15                             Presence  1976     Led Zeppelin\n",
      "16              In Through the Out Door  1979     Led Zeppelin\n",
      "17                                Truth  1968  Jeff Beck Group\n",
      "18                             Beck-Ola  1969  Jeff Beck Group\n",
      "19                      Rough and Ready  1971  Jeff Beck Group\n",
      "20                      Jeff Beck Group  1972  Jeff Beck Group\n"
     ]
    }
   ],
   "source": [
    "albums_df = pd.DataFrame({'album':['For Your Love', 'Having a Rave Up with The Yardbirds',\\\n",
    "                                   'Yardbirds', 'Over Under Sideways Down', 'Little Games',\\\n",
    "                                 'Fresh Cream', 'Disraeli Gears', 'Wheels of Fire', 'Goodbye',\\\n",
    "                                 'Led Zeppelin', 'Led Leppelin II', 'Led Zeppelin III',\\\n",
    "                                   'Led Zeppelin IV', 'Houses of the Holy', 'Physical Graffiti',\\\n",
    "                                 'Presence', 'In Through the Out Door', 'Truth', 'Beck-Ola', 'Rough and Ready',\\\n",
    "                                  'Jeff Beck Group'],\n",
    "                        'year':[1965, 1965, 1966, 1966, 1967, 1966, 1967, 1968, 1969,\\\n",
    "                               1969, 1969, 1970, 1971, 1973, 1975, 1976, 1979, 1968, 1969, 1971, 1972],\n",
    "                          \n",
    "                        'band':['Yardbirds', 'Yardbirds', 'Yardbirds', 'Yardbirds', 'Yardbirds',\\\n",
    "                               'Cream', 'Cream', 'Cream', 'Cream', 'Led Zeppelin', 'Led Zeppelin',\\\n",
    "                                'Led Zeppelin', 'Led Zeppelin', 'Led Zeppelin', 'Led Zeppelin',\\\n",
    "                               'Led Zeppelin', 'Led Zeppelin', 'Jeff Beck Group', 'Jeff Beck Group',\\\n",
    "                               'Jeff Beck Group', 'Jeff Beck Group']})\n",
    "print(albums_df)"
   ]
  },
  {
   "cell_type": "markdown",
   "metadata": {},
   "source": [
    "We can merge the above dataset into the graph using the same technique as before.\n",
    "The MERGE operation will check to see if a node already exists, and then connect new data to it, or it will\n",
    "create a new node."
   ]
  },
  {
   "cell_type": "code",
   "execution_count": 26,
   "metadata": {},
   "outputs": [],
   "source": [
    "graph.schema.create_uniqueness_constraint('album', 'album_name')\n",
    "\n",
    "for index, rows in albums_df.iterrows():\n",
    "    album_name = rows['album']\n",
    "    band_name = rows['band']\n",
    "    year = rows['year']\n",
    "    \n",
    "    band = Node('band', band_name = band_name)\n",
    "    band.__primarylabel__='band'\n",
    "    band.__primarykey__='band_name'\n",
    "    \n",
    "    album = Node('album', album_name = album_name, year = year)\n",
    "    album.__primarylabel__='album'\n",
    "    album.__primarykey__='album_name'\n",
    "    \n",
    "    RELEASED = Relationship.type(\"RELEASED\")\n",
    "    \n",
    "    graph.merge(RELEASED(band, album), 'band_name', 'album')"
   ]
  },
  {
   "cell_type": "markdown",
   "metadata": {},
   "source": [
    "The final product should look like this:"
   ]
  },
  {
   "cell_type": "code",
   "execution_count": 27,
   "metadata": {
    "scrolled": false
   },
   "outputs": [
    {
     "data": {
      "text/html": [
       "<img src=\"yardbirds_network.png\", width = 1000, height=800>"
      ],
      "text/plain": [
       "<IPython.core.display.HTML object>"
      ]
     },
     "metadata": {},
     "output_type": "display_data"
    }
   ],
   "source": [
    "%%html\n",
    "<img src=\"yardbirds_network.png\", width = 1000, height=800>"
   ]
  },
  {
   "cell_type": "markdown",
   "metadata": {},
   "source": [
    "Using Cypher, we can calculate basic statistics about the network, for instance, the musicians who have the greatest number\n",
    "of connections within the dataset:"
   ]
  },
  {
   "cell_type": "code",
   "execution_count": 28,
   "metadata": {},
   "outputs": [
    {
     "name": "stdout",
     "output_type": "stream",
     "text": [
      "   degree         musician\n",
      "0       2     Eric Clapton\n",
      "1       2        Jeff Beck\n",
      "2       2       Jimmy Page\n",
      "3       1     Ginger Baker\n",
      "4       1       Jack Bruce\n",
      "5       1       Tim Bogert\n",
      "6       1   Carmine Appice\n",
      "7       1     Robert Plant\n",
      "8       1  John Paul Jones\n",
      "9       1      John Bonham\n"
     ]
    }
   ],
   "source": [
    "degree_df = pd.DataFrame(graph.run(\"MATCH (m:musician)\\\n",
    "                            RETURN m.musician_name as musician, size((m)-[]-()) AS degree\\\n",
    "                            ORDER BY degree DESC\").data())\n",
    "print(degree_df)"
   ]
  },
  {
   "cell_type": "markdown",
   "metadata": {},
   "source": [
    "## Exporting Neo4j to NetworkX\n",
    "\n",
    "Now that our data is stored in Neo4j, we can take full advantage of its storage and querying capabilities. However, if we want to run more advanced analysis or create more customized visualizations, it is often best to pull the data out of the Neo4j environment.\n",
    "\n",
    "Unfortunately, there is no particularly elegant way to accomplish this. (Yes, there are some *theoretical* options you can find on github, but they seem to be more trouble than they're worth.) The best bet is to pull relevant data out of Neo4j as a Pandas DataFrame object, then reconstruct the graph in NetworkX. \n",
    "\n",
    "(For smaller/straightforward datasets, you can probably skip Neo4j entirely and just run everything in NetworkX. Neo4j is best used in situations where you're storing lots of data, or need advanced querying options.)"
   ]
  },
  {
   "cell_type": "code",
   "execution_count": 29,
   "metadata": {},
   "outputs": [],
   "source": [
    "#Import dependencies\n",
    "import networkx as nx\n",
    "import matplotlib.pyplot as plt\n",
    "%matplotlib inline"
   ]
  },
  {
   "cell_type": "markdown",
   "metadata": {},
   "source": [
    "We'll start by reading our data out of Neo4j as a Pandas Dataframe object. This can be any query, but in this case we'll just pull everything.\n",
    "\n",
    "Note that we need to run separate queries for different relationship types. If you have a very complicated graph with many different relationship types, then you have my condolences."
   ]
  },
  {
   "cell_type": "code",
   "execution_count": 30,
   "metadata": {},
   "outputs": [],
   "source": [
    "df_musicians = pd.DataFrame(graph.run(\"MATCH (m:musician)-[:PLAYED_IN]->(b:band)\\\n",
    "                            RETURN m.musician_name as musician, b.band_name as band,\\\n",
    "                            m.instrument as instrument\").data())\n",
    "df_albums = pd.DataFrame(graph.run(\"MATCH (b:band)-[:RELEASED]->(a:album)\\\n",
    "                                    RETURN b.band_name as band, a.album_name as album, a.year as year\").data())"
   ]
  },
  {
   "cell_type": "markdown",
   "metadata": {},
   "source": [
    "Now load the dataframes into NetworkX. This process is almost identical to loading data into Neo4j. (There *are* more efficient ways of doing this, but for our purposes, we'll use the trusty for-loop)."
   ]
  },
  {
   "cell_type": "code",
   "execution_count": 31,
   "metadata": {},
   "outputs": [],
   "source": [
    "#Start by creating a blank networkX graph called \"G\". In this case, we're creating a directional graph (DiGraph).\n",
    "G = nx.DiGraph()\n",
    "\n",
    "#As before, iterate over each row in the dataframe and create the nodes and relationships.\n",
    "#Note that there *is* a nx.from_pandas_dataframe() function that should make this easier, \n",
    "#but it doesn't always import properly. Life is suffering.\n",
    "for index, rows in df_musicians.iterrows():\n",
    "    musician = rows['musician']\n",
    "    instrument = rows['instrument']\n",
    "    band = rows['band']\n",
    "    \n",
    "    G.add_node(musician, instrument=instrument, node_type='musician')\n",
    "    G.add_node(band, node_type='band')\n",
    "    G.add_edge(musician, band)\n",
    "\n",
    "#Now do the same with the albums dataframe.\n",
    "for index, rows in df_albums.iterrows():\n",
    "    band = rows['band']\n",
    "    album = rows['album']\n",
    "    year = rows['year']\n",
    "    G.add_node(album, node_type='album', year=year)\n",
    "    G.add_edge(band, album)\n",
    "\n",
    "#Note that I have created a new node attribute, *node_type*, that wasn't in the Neo4j graph.\n",
    "#NetworkX doesn't automatically differentiate between node types, so this will be helpful later\n",
    "#in the visualziation step."
   ]
  },
  {
   "cell_type": "markdown",
   "metadata": {},
   "source": [
    "Lets take a quick look at the results."
   ]
  },
  {
   "cell_type": "code",
   "execution_count": 32,
   "metadata": {},
   "outputs": [
    {
     "name": "stdout",
     "output_type": "stream",
     "text": [
      "Name: \n",
      "Type: DiGraph\n",
      "Number of nodes: 32\n",
      "Number of edges: 34\n",
      "Average in degree:   1.0625\n",
      "Average out degree:   1.0625\n"
     ]
    }
   ],
   "source": [
    "print(nx.info(G))"
   ]
  },
  {
   "cell_type": "markdown",
   "metadata": {},
   "source": [
    "As with Neo4j, we can call out individual nodes to examine their attributes."
   ]
  },
  {
   "cell_type": "code",
   "execution_count": 33,
   "metadata": {},
   "outputs": [
    {
     "name": "stdout",
     "output_type": "stream",
     "text": [
      "{'instrument': 'Guitar', 'node_type': 'musician'}\n"
     ]
    }
   ],
   "source": [
    "print (G.node['Eric Clapton'])"
   ]
  },
  {
   "cell_type": "markdown",
   "metadata": {},
   "source": [
    "\n",
    "## Visualization\n",
    "\n",
    "Now that our data is loaded, we have a few different choices on how to visualize the graph's structure.\n",
    "\n",
    "The first option is to use NetworkX's built in graph function, which calls on the Matplotlib library to produce a simple graph. This is useful in situations where we want just a quick glance at our results. \n",
    "\n",
    "But <b>*wow*<b> is it ugly."
   ]
  },
  {
   "cell_type": "code",
   "execution_count": 34,
   "metadata": {},
   "outputs": [
    {
     "data": {
      "image/png": "[encoded data removed]",
      "text/plain": [
       "<Figure size 432x288 with 1 Axes>"
      ]
     },
     "metadata": {
      "needs_background": "light"
     },
     "output_type": "display_data"
    }
   ],
   "source": [
    "nx.draw_networkx(G)"
   ]
  },
  {
   "cell_type": "markdown",
   "metadata": {},
   "source": [
    "The pyvis module offers a better option--with the added benefit of interactivity--and requires minimal setup. It includes a helpful \"from_nx\" function that reads NetworkX graphs, and can then display them as an HTML object in Jupyter. (If the interactive visualization does not appear, try downloading and running this notebook)."
   ]
  },
  {
   "cell_type": "code",
   "execution_count": 35,
   "metadata": {
    "scrolled": false
   },
   "outputs": [
    {
     "data": {
      "text/html": [
       "\n",
       "        <iframe\n",
       "            width=\"100%\"\n",
       "            height=\"750px\"\n",
       "            src=\"example.html\"\n",
       "            frameborder=\"0\"\n",
       "            allowfullscreen\n",
       "        ></iframe>\n",
       "        "
      ],
      "text/plain": [
       "<IPython.lib.display.IFrame at 0x1d038a89748>"
      ]
     },
     "execution_count": 35,
     "metadata": {},
     "output_type": "execute_result"
    }
   ],
   "source": [
    "from pyvis.network import Network\n",
    "net = Network(notebook=True, height=\"750px\", width=\"100%\")\n",
    "net.from_nx(G)\n",
    "net.show('example.html')"
   ]
  },
  {
   "cell_type": "markdown",
   "metadata": {},
   "source": [
    "The result should look like this:"
   ]
  },
  {
   "cell_type": "code",
   "execution_count": 36,
   "metadata": {},
   "outputs": [
    {
     "data": {
      "text/html": [
       "<img src=\"static_pyvis_graph.png\", width = 1000, height=800>"
      ],
      "text/plain": [
       "<IPython.core.display.HTML object>"
      ]
     },
     "metadata": {},
     "output_type": "display_data"
    }
   ],
   "source": [
    "%%html\n",
    "<img src=\"static_pyvis_graph.png\", width = 1000, height=800>"
   ]
  },
  {
   "cell_type": "markdown",
   "metadata": {},
   "source": [
    "The third, and arguably best option is to export the network data from python and plot the results in Gephi or Cytoscape--two open source network visualization tools designed for this purpose. The following snippet will export the NetworkX graph as a .gexf file, which can be read by Gephi."
   ]
  },
  {
   "cell_type": "code",
   "execution_count": 37,
   "metadata": {},
   "outputs": [],
   "source": [
    "nx.write_gexf(G, 'gephi_data.gexf')"
   ]
  },
  {
   "cell_type": "markdown",
   "metadata": {},
   "source": [
    "## Performing Network Analysis\n",
    "\n",
    "As shown below, running network analysis in NetworkX is pretty straightforward. We simply call the function on the graph object, and NetworkX returns a dictionary of each node and its associated score."
   ]
  },
  {
   "cell_type": "code",
   "execution_count": 38,
   "metadata": {},
   "outputs": [
    {
     "name": "stdout",
     "output_type": "stream",
     "text": [
      "{'Jimmy Page': 0.06451612903225806, 'Yardbirds': 0.29032258064516125, 'Jeff Beck': 0.06451612903225806, 'Eric Clapton': 0.06451612903225806, 'Jack Bruce': 0.03225806451612903, 'Cream': 0.22580645161290322, 'Ginger Baker': 0.03225806451612903, 'Carmine Appice': 0.03225806451612903, 'Jeff Beck Group': 0.25806451612903225, 'Tim Bogert': 0.03225806451612903, 'John Bonham': 0.03225806451612903, 'Led Zeppelin': 0.4193548387096774, 'John Paul Jones': 0.03225806451612903, 'Robert Plant': 0.03225806451612903, 'Little Games': 0.03225806451612903, 'Over Under Sideways Down': 0.03225806451612903, 'Having a Rave Up with The Yardbirds': 0.03225806451612903, 'For Your Love': 0.03225806451612903, 'Goodbye': 0.03225806451612903, 'Wheels of Fire': 0.03225806451612903, 'Disraeli Gears': 0.03225806451612903, 'Fresh Cream': 0.03225806451612903, 'Rough and Ready': 0.03225806451612903, 'Beck-Ola': 0.03225806451612903, 'Truth': 0.03225806451612903, 'In Through the Out Door': 0.03225806451612903, 'Presence': 0.03225806451612903, 'Physical Graffiti': 0.03225806451612903, 'Houses of the Holy': 0.03225806451612903, 'Led Zeppelin IV': 0.03225806451612903, 'Led Zeppelin III': 0.03225806451612903, 'Led Leppelin II': 0.03225806451612903}\n"
     ]
    }
   ],
   "source": [
    "degree_centrality = nx.degree_centrality(G)\n",
    "print(degree_centrality)"
   ]
  },
  {
   "cell_type": "markdown",
   "metadata": {},
   "source": [
    "To make this a little easier to work with, we can run the analysis and return the results in a pandas dataframe, indexed by Node. Below, each of the major centrality scores -- Degree, Betweenness, Closeness, and Eigenvector -- is returned as its own dataframe object."
   ]
  },
  {
   "cell_type": "code",
   "execution_count": 39,
   "metadata": {},
   "outputs": [],
   "source": [
    "degree_centrality = pd.DataFrame((nx.degree_centrality(G)).items(), columns = ['Node', 'Degree_Centrality']).set_index('Node')\n",
    "betweenness_centrality = pd.DataFrame((nx.betweenness_centrality(G)).items(), columns = ['Node', 'Betweenness_Centrality']).set_index('Node')\n",
    "closeness_centrality = pd.DataFrame((nx.closeness_centrality(G)).items(), columns = ['Node', 'Closeness_Centrality']).set_index('Node')\n",
    "eigenvector_centrality = pd.DataFrame((nx.eigenvector_centrality(G)).items(), columns = ['Node', 'Eigenvector_Centrality']).set_index('Node')"
   ]
  },
  {
   "cell_type": "markdown",
   "metadata": {},
   "source": [
    "Now we can combine the dataframes into a single view, and sort based on their degree centrality (or any other metric)."
   ]
  },
  {
   "cell_type": "code",
   "execution_count": 40,
   "metadata": {},
   "outputs": [
    {
     "name": "stdout",
     "output_type": "stream",
     "text": [
      "               Node  Degree_Centrality  Betweenness_Centrality  \\\n",
      "11     Led Zeppelin           0.419355                0.030108   \n",
      "1         Yardbirds           0.290323                0.012903   \n",
      "8   Jeff Beck Group           0.258065                0.009677   \n",
      "5             Cream           0.225806                0.012903   \n",
      "0        Jimmy Page           0.064516                0.000000   \n",
      "\n",
      "    Closeness_Centrality  Eigenvector_Centrality  \n",
      "11              0.129032            2.695824e-01  \n",
      "1               0.096774            2.156659e-01  \n",
      "8               0.096774            2.156659e-01  \n",
      "5               0.096774            4.499142e-07  \n",
      "0               0.000000            6.427346e-09  \n"
     ]
    }
   ],
   "source": [
    "results = degree_centrality.join(betweenness_centrality, how = 'inner').join(closeness_centrality, how ='inner')\\\n",
    "                            .join(eigenvector_centrality, how = 'inner').reset_index()\n",
    "results = results.sort_values(by=['Degree_Centrality'], ascending = False)\n",
    "print (results.head())"
   ]
  },
  {
   "cell_type": "markdown",
   "metadata": {},
   "source": [
    "These results make sense, as Led Zeppelin has the most band members in the dataset, and produced the greatest number of albums. Since it has the most connections, it has the highest Degree Centrality. The other bands follow suit, based on the number of members they had and albums they released.\n",
    "\n",
    "If we instead sort by Eigenvector Centrality, we again find Led Zeppelin at the top, but this time its albums take the next highest places. This is because the Eigenvector algorithm (similar to PageRank) measures the closeness of a given node to other, highly influential nodes."
   ]
  },
  {
   "cell_type": "code",
   "execution_count": 41,
   "metadata": {},
   "outputs": [
    {
     "name": "stdout",
     "output_type": "stream",
     "text": [
      "                       Node  Degree_Centrality  Betweenness_Centrality  \\\n",
      "11             Led Zeppelin           0.419355                0.030108   \n",
      "25  In Through the Out Door           0.032258                0.000000   \n",
      "30         Led Zeppelin III           0.032258                0.000000   \n",
      "28       Houses of the Holy           0.032258                0.000000   \n",
      "26                 Presence           0.032258                0.000000   \n",
      "\n",
      "    Closeness_Centrality  Eigenvector_Centrality  \n",
      "11              0.129032                0.269582  \n",
      "25              0.089606                0.269582  \n",
      "30              0.089606                0.269582  \n",
      "28              0.089606                0.269582  \n",
      "26              0.089606                0.269582  \n"
     ]
    }
   ],
   "source": [
    "results = results.sort_values(by=['Eigenvector_Centrality'], ascending = False)\n",
    "print (results.head())"
   ]
  },
  {
   "cell_type": "markdown",
   "metadata": {},
   "source": [
    "And those are the basics. Beautiful and efficient, no, but it'll get the job done for small-to-medium sized projects. Neo4j is making great strides in evangelizing and democratizing graph databases, but there's still a ways to go before it is a frictionless experience.\n",
    "\n",
    "Also, go check out the Yardbirds."
   ]
  }
 ],
 "metadata": {
  "kernelspec": {
   "display_name": "Python 3",
   "language": "python",
   "name": "python3"
  },
  "language_info": {
   "codemirror_mode": {
    "name": "ipython",
    "version": 3
   },
   "file_extension": ".py",
   "mimetype": "text/x-python",
   "name": "python",
   "nbconvert_exporter": "python",
   "pygments_lexer": "ipython3",
   "version": "3.7.3"
  }
 },
 "nbformat": 4,
 "nbformat_minor": 2
}
